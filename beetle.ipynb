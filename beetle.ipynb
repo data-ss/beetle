{
 "cells": [
  {
   "cell_type": "code",
   "execution_count": 1,
   "metadata": {},
   "outputs": [],
   "source": [
    "import praw"
   ]
  },
  {
   "cell_type": "code",
   "execution_count": 6,
   "metadata": {},
   "outputs": [],
   "source": [
    "reddit = praw.Reddit(\n",
    "    client_id=\"46cIDgotdiQVtQ\",\n",
    "    client_secret=\"6se_mShPFrGu-3fnUydXclTDDf8\",\n",
    "    user_agent=\"tradewar_bot\"\n",
    ")"
   ]
  },
  {
   "cell_type": "code",
   "execution_count": 7,
   "metadata": {},
   "outputs": [
    {
     "name": "stdout",
     "output_type": "stream",
     "text": [
      "True\n"
     ]
    }
   ],
   "source": [
    "print(reddit.read_only)"
   ]
  },
  {
   "cell_type": "code",
   "execution_count": 13,
   "metadata": {},
   "outputs": [
    {
     "name": "stdout",
     "output_type": "stream",
     "text": [
      "Official: [Trade Discussion] - November 30 2019 \n",
      "\n",
      "Official: [Roster Moves] - November 30 2019 \n",
      "\n",
      "D'Angelo Russell (thumb) out at least 2 more games \n",
      "\n",
      "Embiid playing Saturday night! \n",
      "\n",
      "Eric Bledsoe and Giannis Antetokounmpo are listed probable Saturday. Brook Lopez is listed as out. \n",
      "\n",
      "\"Tanking\" from the waiver wire \n",
      "\n",
      "NBA highlight roundup (11/29) feat. Luka \"GOAT\" Doncic, Nets' leader Dinwiddie, Trae nearly drops 50 \n",
      "\n",
      "Waiver settings \n",
      "\n",
      "How long is 82 games? \n",
      "\n",
      "After today Collins will have 11 games left on his suspension and Ayton will have 9 games. \n",
      "\n"
     ]
    }
   ],
   "source": [
    "for submission in reddit.subreddit('fantasybball').new(limit=10):\n",
    "    print(submission.title, \"\\n\")"
   ]
  },
  {
   "cell_type": "code",
   "execution_count": 12,
   "metadata": {
    "collapsed": true,
    "jupyter": {
     "outputs_hidden": true
    }
   },
   "outputs": [
    {
     "data": {
      "text/plain": [
       "['__class__',\n",
       " '__delattr__',\n",
       " '__dict__',\n",
       " '__dir__',\n",
       " '__doc__',\n",
       " '__enter__',\n",
       " '__eq__',\n",
       " '__exit__',\n",
       " '__format__',\n",
       " '__ge__',\n",
       " '__getattribute__',\n",
       " '__gt__',\n",
       " '__hash__',\n",
       " '__init__',\n",
       " '__init_subclass__',\n",
       " '__le__',\n",
       " '__lt__',\n",
       " '__module__',\n",
       " '__ne__',\n",
       " '__new__',\n",
       " '__reduce__',\n",
       " '__reduce_ex__',\n",
       " '__repr__',\n",
       " '__setattr__',\n",
       " '__sizeof__',\n",
       " '__str__',\n",
       " '__subclasshook__',\n",
       " '__weakref__',\n",
       " '_authorized_core',\n",
       " '_check_for_update',\n",
       " '_core',\n",
       " '_next_unique',\n",
       " '_objector',\n",
       " '_prepare_objector',\n",
       " '_prepare_prawcore',\n",
       " '_prepare_trusted_prawcore',\n",
       " '_prepare_untrusted_prawcore',\n",
       " '_read_only_core',\n",
       " '_unique_counter',\n",
       " 'auth',\n",
       " 'comment',\n",
       " 'config',\n",
       " 'domain',\n",
       " 'front',\n",
       " 'get',\n",
       " 'inbox',\n",
       " 'info',\n",
       " 'live',\n",
       " 'multireddit',\n",
       " 'patch',\n",
       " 'post',\n",
       " 'put',\n",
       " 'random_subreddit',\n",
       " 'read_only',\n",
       " 'redditor',\n",
       " 'redditors',\n",
       " 'request',\n",
       " 'submission',\n",
       " 'subreddit',\n",
       " 'subreddits',\n",
       " 'update_checked',\n",
       " 'user']"
      ]
     },
     "execution_count": 12,
     "metadata": {},
     "output_type": "execute_result"
    }
   ],
   "source": [
    "# continuously monitor subreddit\n",
    "\n",
    "subreddit = bot.subreddit('fantasybball')\n",
    "comments = subreddit.stream.comments()"
   ]
  },
  {
   "cell_type": "code",
   "execution_count": null,
   "metadata": {},
   "outputs": [],
   "source": [
    "# need to gather all deleted individual threads\n"
   ]
  }
 ],
 "metadata": {
  "kernelspec": {
   "display_name": "Python 3",
   "language": "python",
   "name": "python3"
  },
  "language_info": {
   "codemirror_mode": {
    "name": "ipython",
    "version": 3
   },
   "file_extension": ".py",
   "mimetype": "text/x-python",
   "name": "python",
   "nbconvert_exporter": "python",
   "pygments_lexer": "ipython3",
   "version": "3.7.3"
  }
 },
 "nbformat": 4,
 "nbformat_minor": 4
}
